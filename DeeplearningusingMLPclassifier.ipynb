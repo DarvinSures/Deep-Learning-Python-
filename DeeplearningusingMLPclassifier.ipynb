{
 "cells": [
  {
   "cell_type": "code",
   "execution_count": 47,
   "id": "cd18faff",
   "metadata": {},
   "outputs": [],
   "source": [
    "import tensorflow as tf\n",
    "import numpy as np\n",
    "import pandas as pd \n",
    "from tensorflow.keras.layers import Dense, Dropout\n",
    "from tensorflow.keras import optimizers\n",
    "from sklearn.model_selection import train_test_split\n",
    "from sklearn.neural_network import MLPClassifier\n",
    "import warnings\n",
    "import matplotlib.pylab as plt\n",
    "warnings.filterwarnings('ignore')\n",
    "%matplotlib inline\n",
    "import os"
   ]
  },
  {
   "cell_type": "code",
   "execution_count": 48,
   "id": "2859b192",
   "metadata": {},
   "outputs": [],
   "source": [
    "train_data = pd.read_csv('./traindl.csv', index_col=0)\n",
    "test_data = pd.read_csv('./testdl.csv', index_col=0)"
   ]
  },
  {
   "cell_type": "code",
   "execution_count": 49,
   "id": "507222b0",
   "metadata": {},
   "outputs": [],
   "source": [
    "#cdys,canginamt2wk,canginapast2wk,cpvascular,cabg\n",
    "train_data[\"cdys\"] = np.where(train_data[\"cdys\"]  == 1, 1, 0)\n",
    "train_data[\"canginamt2wk\"] = np.where(train_data[\"canginamt2wk\"]  == 1, 1, 0)\n",
    "train_data[\"canginapast2wk\"] = np.where(train_data[\"canginapast2wk\"]  == 1, 1, 0)\n",
    "train_data[\"cpvascular\"] = np.where(train_data[\"cpvascular\"]  == 1, 1, 0)\n",
    "train_data[\"cabg\"] = np.where(train_data[\"cabg\"]  == 1, 1, 0)\n",
    "\n",
    "test_data[\"cdys\"] = np.where(test_data[\"cdys\"]  == 1, 1, 0)\n",
    "test_data[\"canginamt2wk\"] = np.where(test_data[\"canginamt2wk\"]  == 1, 1, 0)\n",
    "test_data[\"canginapast2wk\"] = np.where(test_data[\"canginapast2wk\"]  == 1, 1, 0)\n",
    "test_data[\"cpvascular\"] = np.where(test_data[\"cpvascular\"]  == 1, 1, 0)\n",
    "test_data[\"cabg\"] = np.where(test_data[\"cabg\"]  == 1, 1, 0)"
   ]
  },
  {
   "cell_type": "code",
   "execution_count": 50,
   "id": "95984c80",
   "metadata": {},
   "outputs": [],
   "source": [
    "x_train = train_data.drop([\"status\"], axis=1).values\n",
    "y_train = train_data[\"status\"].values"
   ]
  },
  {
   "cell_type": "code",
   "execution_count": 51,
   "id": "08886edf",
   "metadata": {},
   "outputs": [],
   "source": [
    "x_test = test_data.drop([\"status\"], axis=1).values\n",
    "y_test = test_data[\"status\"].values"
   ]
  },
  {
   "cell_type": "code",
   "execution_count": 52,
   "id": "5edfeb41",
   "metadata": {},
   "outputs": [],
   "source": [
    "def accuracy(confusion_matrix):\n",
    "   diagonal_sum = confusion_matrix.trace()\n",
    "   sum_of_all_elements = confusion_matrix.sum()\n",
    "   return diagonal_sum / sum_of_all_elements"
   ]
  },
  {
   "cell_type": "code",
   "execution_count": 53,
   "id": "1360d69c",
   "metadata": {},
   "outputs": [],
   "source": [
    "classifier =MLPClassifier(hidden_layer_sizes=(128,32,16,8,2), \n",
    "                          max_iter=150,activation = 'relu',solver='adam',\n",
    "                          learning_rate= 'constant',\n",
    "                          learning_rate_init= 0.0001,batch_size=32,\n",
    "                         early_stopping= True)"
   ]
  },
  {
   "cell_type": "code",
   "execution_count": 54,
   "id": "e78151b4",
   "metadata": {},
   "outputs": [
    {
     "data": {
      "text/html": [
       "<style>#sk-container-id-1 {color: black;background-color: white;}#sk-container-id-1 pre{padding: 0;}#sk-container-id-1 div.sk-toggleable {background-color: white;}#sk-container-id-1 label.sk-toggleable__label {cursor: pointer;display: block;width: 100%;margin-bottom: 0;padding: 0.3em;box-sizing: border-box;text-align: center;}#sk-container-id-1 label.sk-toggleable__label-arrow:before {content: \"▸\";float: left;margin-right: 0.25em;color: #696969;}#sk-container-id-1 label.sk-toggleable__label-arrow:hover:before {color: black;}#sk-container-id-1 div.sk-estimator:hover label.sk-toggleable__label-arrow:before {color: black;}#sk-container-id-1 div.sk-toggleable__content {max-height: 0;max-width: 0;overflow: hidden;text-align: left;background-color: #f0f8ff;}#sk-container-id-1 div.sk-toggleable__content pre {margin: 0.2em;color: black;border-radius: 0.25em;background-color: #f0f8ff;}#sk-container-id-1 input.sk-toggleable__control:checked~div.sk-toggleable__content {max-height: 200px;max-width: 100%;overflow: auto;}#sk-container-id-1 input.sk-toggleable__control:checked~label.sk-toggleable__label-arrow:before {content: \"▾\";}#sk-container-id-1 div.sk-estimator input.sk-toggleable__control:checked~label.sk-toggleable__label {background-color: #d4ebff;}#sk-container-id-1 div.sk-label input.sk-toggleable__control:checked~label.sk-toggleable__label {background-color: #d4ebff;}#sk-container-id-1 input.sk-hidden--visually {border: 0;clip: rect(1px 1px 1px 1px);clip: rect(1px, 1px, 1px, 1px);height: 1px;margin: -1px;overflow: hidden;padding: 0;position: absolute;width: 1px;}#sk-container-id-1 div.sk-estimator {font-family: monospace;background-color: #f0f8ff;border: 1px dotted black;border-radius: 0.25em;box-sizing: border-box;margin-bottom: 0.5em;}#sk-container-id-1 div.sk-estimator:hover {background-color: #d4ebff;}#sk-container-id-1 div.sk-parallel-item::after {content: \"\";width: 100%;border-bottom: 1px solid gray;flex-grow: 1;}#sk-container-id-1 div.sk-label:hover label.sk-toggleable__label {background-color: #d4ebff;}#sk-container-id-1 div.sk-serial::before {content: \"\";position: absolute;border-left: 1px solid gray;box-sizing: border-box;top: 0;bottom: 0;left: 50%;z-index: 0;}#sk-container-id-1 div.sk-serial {display: flex;flex-direction: column;align-items: center;background-color: white;padding-right: 0.2em;padding-left: 0.2em;position: relative;}#sk-container-id-1 div.sk-item {position: relative;z-index: 1;}#sk-container-id-1 div.sk-parallel {display: flex;align-items: stretch;justify-content: center;background-color: white;position: relative;}#sk-container-id-1 div.sk-item::before, #sk-container-id-1 div.sk-parallel-item::before {content: \"\";position: absolute;border-left: 1px solid gray;box-sizing: border-box;top: 0;bottom: 0;left: 50%;z-index: -1;}#sk-container-id-1 div.sk-parallel-item {display: flex;flex-direction: column;z-index: 1;position: relative;background-color: white;}#sk-container-id-1 div.sk-parallel-item:first-child::after {align-self: flex-end;width: 50%;}#sk-container-id-1 div.sk-parallel-item:last-child::after {align-self: flex-start;width: 50%;}#sk-container-id-1 div.sk-parallel-item:only-child::after {width: 0;}#sk-container-id-1 div.sk-dashed-wrapped {border: 1px dashed gray;margin: 0 0.4em 0.5em 0.4em;box-sizing: border-box;padding-bottom: 0.4em;background-color: white;}#sk-container-id-1 div.sk-label label {font-family: monospace;font-weight: bold;display: inline-block;line-height: 1.2em;}#sk-container-id-1 div.sk-label-container {text-align: center;}#sk-container-id-1 div.sk-container {/* jupyter's `normalize.less` sets `[hidden] { display: none; }` but bootstrap.min.css set `[hidden] { display: none !important; }` so we also need the `!important` here to be able to override the default hidden behavior on the sphinx rendered scikit-learn.org. See: https://github.com/scikit-learn/scikit-learn/issues/21755 */display: inline-block !important;position: relative;}#sk-container-id-1 div.sk-text-repr-fallback {display: none;}</style><div id=\"sk-container-id-1\" class=\"sk-top-container\"><div class=\"sk-text-repr-fallback\"><pre>MLPClassifier(batch_size=32, early_stopping=True,\n",
       "              hidden_layer_sizes=(128, 32, 16, 8, 2), learning_rate_init=0.0001,\n",
       "              max_iter=150)</pre><b>In a Jupyter environment, please rerun this cell to show the HTML representation or trust the notebook. <br />On GitHub, the HTML representation is unable to render, please try loading this page with nbviewer.org.</b></div><div class=\"sk-container\" hidden><div class=\"sk-item\"><div class=\"sk-estimator sk-toggleable\"><input class=\"sk-toggleable__control sk-hidden--visually\" id=\"sk-estimator-id-1\" type=\"checkbox\" checked><label for=\"sk-estimator-id-1\" class=\"sk-toggleable__label sk-toggleable__label-arrow\">MLPClassifier</label><div class=\"sk-toggleable__content\"><pre>MLPClassifier(batch_size=32, early_stopping=True,\n",
       "              hidden_layer_sizes=(128, 32, 16, 8, 2), learning_rate_init=0.0001,\n",
       "              max_iter=150)</pre></div></div></div></div></div>"
      ],
      "text/plain": [
       "MLPClassifier(batch_size=32, early_stopping=True,\n",
       "              hidden_layer_sizes=(128, 32, 16, 8, 2), learning_rate_init=0.0001,\n",
       "              max_iter=150)"
      ]
     },
     "execution_count": 54,
     "metadata": {},
     "output_type": "execute_result"
    }
   ],
   "source": [
    "classifier.fit(x_train, y_train)"
   ]
  },
  {
   "cell_type": "code",
   "execution_count": 55,
   "id": "3dcef87a",
   "metadata": {},
   "outputs": [],
   "source": [
    "#Predicting y for X_val\n",
    "y_pred = classifier.predict(x_test)"
   ]
  },
  {
   "cell_type": "code",
   "execution_count": 56,
   "id": "6f69e55f",
   "metadata": {},
   "outputs": [
    {
     "data": {
      "text/plain": [
       "array([[  50,   97],\n",
       "       [  56, 1088]], dtype=int64)"
      ]
     },
     "execution_count": 56,
     "metadata": {},
     "output_type": "execute_result"
    }
   ],
   "source": [
    "#Importing Confusion Matrix\n",
    "from sklearn.metrics import confusion_matrix\n",
    "#Comparing the predictions against the actual observations in y_val\n",
    "cm = confusion_matrix(y_pred, y_test)\n",
    "cm\n",
    "#array([[  64,  165],\n",
    "#       [  42, 1020]], dtype=int64)"
   ]
  },
  {
   "cell_type": "code",
   "execution_count": 57,
   "id": "7780ed70",
   "metadata": {},
   "outputs": [
    {
     "name": "stdout",
     "output_type": "stream",
     "text": [
      "Accuracy of MLPClassifier :  0.8814872192099148\n"
     ]
    }
   ],
   "source": [
    "#Printing the accuracy\n",
    "print(\"Accuracy of MLPClassifier : \", accuracy(cm))\n",
    "#Accuracy of MLPClassifier :  0.8698683191324554"
   ]
  },
  {
   "cell_type": "code",
   "execution_count": 58,
   "id": "39158e45",
   "metadata": {},
   "outputs": [
    {
     "data": {
      "text/plain": [
       "0.6949207865615796"
      ]
     },
     "execution_count": 58,
     "metadata": {},
     "output_type": "execute_result"
    },
    {
     "data": {
      "image/png": "[encoded data removed]",
      "text/plain": [
       "<Figure size 432x288 with 1 Axes>"
      ]
     },
     "metadata": {
      "needs_background": "light"
     },
     "output_type": "display_data"
    }
   ],
   "source": [
    "from sklearn.metrics import roc_curve, auc\n",
    "nn_fpr_keras, nn_tpr_keras, nn_thresholds_keras = roc_curve(y_test, y_pred)\n",
    "auc_keras = auc(nn_fpr_keras, nn_tpr_keras)\n",
    "plt.plot(nn_fpr_keras, nn_tpr_keras, marker='.', label='Neural Network (auc = %0.3f)' % auc_keras)\n",
    "auc_keras\n",
    "#0.7322665392882733"
   ]
  },
  {
   "cell_type": "code",
   "execution_count": 59,
   "id": "dfd6a183",
   "metadata": {},
   "outputs": [],
   "source": [
    "# testing model\n",
    "stemi = pd.read_csv('./stemitestingdl.csv', index_col=0)\n",
    "nstemi = pd.read_csv('./nstemitestingdl.csv', index_col=0)"
   ]
  },
  {
   "cell_type": "code",
   "execution_count": 60,
   "id": "4311c315",
   "metadata": {},
   "outputs": [],
   "source": [
    "stemi[\"cdys\"] = np.where(stemi[\"cdys\"]  == 1, 1, 0)\n",
    "stemi[\"canginamt2wk\"] = np.where(stemi[\"canginamt2wk\"]  == 1, 1, 0)\n",
    "stemi[\"canginapast2wk\"] = np.where(stemi[\"canginapast2wk\"]  == 1, 1, 0)\n",
    "stemi[\"cpvascular\"] = np.where(stemi[\"cpvascular\"]  == 1, 1, 0)\n",
    "stemi[\"cabg\"] = np.where(stemi[\"cabg\"]  == 1, 1, 0)\n",
    "\n",
    "nstemi[\"cdys\"] = np.where(nstemi[\"cdys\"]  == 1, 1, 0)\n",
    "nstemi[\"canginamt2wk\"] = np.where(nstemi[\"canginamt2wk\"]  == 1, 1, 0)\n",
    "nstemi[\"canginapast2wk\"] = np.where(nstemi[\"canginapast2wk\"]  == 1, 1, 0)\n",
    "nstemi[\"cpvascular\"] = np.where(nstemi[\"cpvascular\"]  == 1, 1, 0)\n",
    "nstemi[\"cabg\"] = np.where(nstemi[\"cabg\"]  == 1, 1, 0)"
   ]
  },
  {
   "cell_type": "code",
   "execution_count": 61,
   "id": "27f6a8f7",
   "metadata": {},
   "outputs": [],
   "source": [
    "#test stemi\n",
    "x_stemi = stemi.drop(['status'], axis=1).values\n",
    "y_stemi = stemi['status'].values"
   ]
  },
  {
   "cell_type": "code",
   "execution_count": 62,
   "id": "b88c9731",
   "metadata": {},
   "outputs": [
    {
     "data": {
      "text/plain": [
       "array([[ 31,  52],\n",
       "       [ 36, 473]], dtype=int64)"
      ]
     },
     "execution_count": 62,
     "metadata": {},
     "output_type": "execute_result"
    }
   ],
   "source": [
    "predstemi = classifier.predict(x_stemi)\n",
    "from sklearn.metrics import confusion_matrix\n",
    "#Comparing the predictions against the actual observations in y_val\n",
    "cm = confusion_matrix(predstemi, y_stemi)\n",
    "cm\n",
    "#array([[ 43,  97],\n",
    "#       [ 24, 428]], dtype=int64)"
   ]
  },
  {
   "cell_type": "code",
   "execution_count": 63,
   "id": "29e68f1f",
   "metadata": {},
   "outputs": [
    {
     "name": "stdout",
     "output_type": "stream",
     "text": [
      "Accuracy of MLPClassifier :  0.8513513513513513\n"
     ]
    }
   ],
   "source": [
    "print(\"Accuracy of MLPClassifier : \", accuracy(cm))\n",
    "#Accuracy of MLPClassifier :   0.8344594594594594"
   ]
  },
  {
   "cell_type": "code",
   "execution_count": 64,
   "id": "2e697cac",
   "metadata": {},
   "outputs": [
    {
     "data": {
      "text/plain": [
       "0.6513835301914929"
      ]
     },
     "execution_count": 64,
     "metadata": {},
     "output_type": "execute_result"
    },
    {
     "data": {
      "image/png": "[encoded data removed]",
      "text/plain": [
       "<Figure size 432x288 with 1 Axes>"
      ]
     },
     "metadata": {
      "needs_background": "light"
     },
     "output_type": "display_data"
    }
   ],
   "source": [
    "from sklearn.metrics import roc_curve, auc\n",
    "nn_fpr_keras, nn_tpr_keras, nn_thresholds_keras = roc_curve(predstemi, y_stemi)\n",
    "auc_keras = auc(nn_fpr_keras, nn_tpr_keras)\n",
    "plt.plot(nn_fpr_keras, nn_tpr_keras, marker='.', label='Neural Network (auc = %0.3f)' % auc_keras)\n",
    "auc_keras\n",
    "#0.64538965483524"
   ]
  },
  {
   "cell_type": "code",
   "execution_count": 65,
   "id": "32718a64",
   "metadata": {},
   "outputs": [],
   "source": [
    "#test nstemi\n",
    "x_nstemi = nstemi.drop(['status'], axis=1).values\n",
    "y_nstemi = nstemi['status'].values\n",
    "\n",
    "prednstemi = classifier.predict(x_nstemi)"
   ]
  },
  {
   "cell_type": "code",
   "execution_count": 66,
   "id": "9d58deca",
   "metadata": {},
   "outputs": [
    {
     "data": {
      "text/plain": [
       "array([[ 19,  45],\n",
       "       [ 20, 615]], dtype=int64)"
      ]
     },
     "execution_count": 66,
     "metadata": {},
     "output_type": "execute_result"
    }
   ],
   "source": [
    "prednstemi = classifier.predict(x_nstemi)\n",
    "from sklearn.metrics import confusion_matrix\n",
    "#Comparing the predictions against the actual observations in y_val\n",
    "cm = confusion_matrix(prednstemi, y_nstemi)\n",
    "cm\n",
    "#array([[ 18,  39],\n",
    "#       [ 21, 621]], dtype=int64)"
   ]
  },
  {
   "cell_type": "code",
   "execution_count": 67,
   "id": "fede8cff",
   "metadata": {},
   "outputs": [
    {
     "name": "stdout",
     "output_type": "stream",
     "text": [
      "Accuracy of MLPClassifier :  0.9070100143061517\n"
     ]
    }
   ],
   "source": [
    "print(\"Accuracy of MLPClassifier : \", accuracy(cm))\n",
    "#Accuracy of MLPClassifier :  0.9141630901287554"
   ]
  },
  {
   "cell_type": "code",
   "execution_count": 68,
   "id": "7d25869e",
   "metadata": {},
   "outputs": [
    {
     "data": {
      "text/plain": [
       "0.632689468503937"
      ]
     },
     "execution_count": 68,
     "metadata": {},
     "output_type": "execute_result"
    },
    {
     "data": {
      "image/png": "[encoded data removed]",
      "text/plain": [
       "<Figure size 432x288 with 1 Axes>"
      ]
     },
     "metadata": {
      "needs_background": "light"
     },
     "output_type": "display_data"
    }
   ],
   "source": [
    "from sklearn.metrics import roc_curve, auc\n",
    "nn_fpr_keras, nn_tpr_keras, nn_thresholds_keras = roc_curve(prednstemi, y_nstemi)\n",
    "auc_keras = auc(nn_fpr_keras, nn_tpr_keras)\n",
    "plt.plot(nn_fpr_keras, nn_tpr_keras, marker='.', label='Neural Network (auc = %0.3f)' % auc_keras)\n",
    "auc_keras\n",
    "#0.6415395966551893"
   ]
  },
  {
   "cell_type": "markdown",
   "id": "1ccc0bd0",
   "metadata": {},
   "source": [
    "# using same parameters as R"
   ]
  },
  {
   "cell_type": "code",
   "execution_count": 32,
   "id": "9b8b999d",
   "metadata": {},
   "outputs": [],
   "source": [
    "classifier =MLPClassifier(hidden_layer_sizes=(128,32,16,8,2), \n",
    "                          max_iter=150,activation = 'relu',solver='adam',\n",
    "                          learning_rate_init= 0.0001,batch_size=16,\n",
    "                         early_stopping= True)\n",
    "\n",
    "classifier.fit(x_train, y_train)\n",
    "y_pred = classifier.predict(x_test)"
   ]
  },
  {
   "cell_type": "code",
   "execution_count": 33,
   "id": "9e4cd66a",
   "metadata": {},
   "outputs": [
    {
     "data": {
      "text/plain": [
       "array([[  47,  110],\n",
       "       [  59, 1075]], dtype=int64)"
      ]
     },
     "execution_count": 33,
     "metadata": {},
     "output_type": "execute_result"
    }
   ],
   "source": [
    "#Importing Confusion Matrix\n",
    "from sklearn.metrics import confusion_matrix\n",
    "#Comparing the predictions against the actual observations in y_val\n",
    "cm = confusion_matrix(y_pred, y_test)\n",
    "cm\n",
    "#array([[  47,  110],\n",
    "#       [  59, 1075]], dtype=int64)"
   ]
  },
  {
   "cell_type": "code",
   "execution_count": 34,
   "id": "abc0845f",
   "metadata": {},
   "outputs": [
    {
     "name": "stdout",
     "output_type": "stream",
     "text": [
      "Accuracy of MLPClassifier :  0.8690937257939582\n"
     ]
    }
   ],
   "source": [
    "#Printing the accuracy\n",
    "print(\"Accuracy of MLPClassifier : \", accuracy(cm))\n",
    "#Accuracy of MLPClassifier :  0.9178931061192874\n",
    "#0.8690937257939582"
   ]
  },
  {
   "cell_type": "code",
   "execution_count": 35,
   "id": "1a7ca39f",
   "metadata": {},
   "outputs": [
    {
     "data": {
      "text/plain": [
       "0.6752846110978425"
      ]
     },
     "execution_count": 35,
     "metadata": {},
     "output_type": "execute_result"
    },
    {
     "data": {
      "image/png": "[encoded data removed]",
      "text/plain": [
       "<Figure size 432x288 with 1 Axes>"
      ]
     },
     "metadata": {
      "needs_background": "light"
     },
     "output_type": "display_data"
    }
   ],
   "source": [
    "from sklearn.metrics import roc_curve, auc\n",
    "nn_fpr_keras, nn_tpr_keras, nn_thresholds_keras = roc_curve(y_test, y_pred)\n",
    "auc_keras = auc(nn_fpr_keras, nn_tpr_keras)\n",
    "plt.plot(nn_fpr_keras, nn_tpr_keras, marker='.', label='Neural Network (auc = %0.3f)' % auc_keras)\n",
    "auc_keras\n",
    "#0.6752846110978425"
   ]
  },
  {
   "cell_type": "code",
   "execution_count": 36,
   "id": "58a93059",
   "metadata": {},
   "outputs": [],
   "source": [
    "# testing model\n",
    "stemi = pd.read_csv('./stemitestingdl.csv', index_col=0)\n",
    "nstemi = pd.read_csv('./nstemitestingdl.csv', index_col=0)\n",
    "\n"
   ]
  },
  {
   "cell_type": "code",
   "execution_count": 37,
   "id": "0e28bcd7",
   "metadata": {},
   "outputs": [],
   "source": [
    "stemi[\"cdys\"] = np.where(stemi[\"cdys\"]  == 1, 1, 0)\n",
    "stemi[\"canginamt2wk\"] = np.where(stemi[\"canginamt2wk\"]  == 1, 1, 0)\n",
    "stemi[\"canginapast2wk\"] = np.where(stemi[\"canginapast2wk\"]  == 1, 1, 0)\n",
    "stemi[\"cpvascular\"] = np.where(stemi[\"cpvascular\"]  == 1, 1, 0)\n",
    "stemi[\"cabg\"] = np.where(stemi[\"cabg\"]  == 1, 1, 0)\n",
    "\n",
    "nstemi[\"cdys\"] = np.where(nstemi[\"cdys\"]  == 1, 1, 0)\n",
    "nstemi[\"canginamt2wk\"] = np.where(nstemi[\"canginamt2wk\"]  == 1, 1, 0)\n",
    "nstemi[\"canginapast2wk\"] = np.where(nstemi[\"canginapast2wk\"]  == 1, 1, 0)\n",
    "nstemi[\"cpvascular\"] = np.where(nstemi[\"cpvascular\"]  == 1, 1, 0)\n",
    "nstemi[\"cabg\"] = np.where(nstemi[\"cabg\"]  == 1, 1, 0)\n"
   ]
  },
  {
   "cell_type": "code",
   "execution_count": 38,
   "id": "b630736f",
   "metadata": {},
   "outputs": [],
   "source": [
    "#test stemi\n",
    "x_stemi = stemi.drop(['status'], axis=1).values\n",
    "y_stemi = stemi['status'].values\n",
    "\n",
    "#test nstemi\n",
    "x_nstemi = nstemi.drop(['status'], axis=1).values\n",
    "y_nstemi = nstemi['status'].values\n",
    "\n",
    "prednstemi = classifier.predict(x_nstemi)"
   ]
  },
  {
   "cell_type": "code",
   "execution_count": 39,
   "id": "86a3f5dc",
   "metadata": {},
   "outputs": [
    {
     "data": {
      "text/plain": [
       "array([[ 29,  70],\n",
       "       [ 38, 455]], dtype=int64)"
      ]
     },
     "execution_count": 39,
     "metadata": {},
     "output_type": "execute_result"
    }
   ],
   "source": [
    "predstemi = classifier.predict(x_stemi)\n",
    "from sklearn.metrics import confusion_matrix\n",
    "#Comparing the predictions against the actual observations in y_val\n",
    "cm = confusion_matrix(predstemi, y_stemi)\n",
    "cm\n",
    "#array([[ 29,  70],\n",
    " #      [ 38, 455]], dtype=int64)"
   ]
  },
  {
   "cell_type": "code",
   "execution_count": 40,
   "id": "b3cf13ee",
   "metadata": {},
   "outputs": [
    {
     "name": "stdout",
     "output_type": "stream",
     "text": [
      "Accuracy of MLPClassifier :  0.8175675675675675\n"
     ]
    }
   ],
   "source": [
    "print(\"Accuracy of MLPClassifier : \", accuracy(cm))\n",
    "#Accuracy of MLPClassifier :   0.8175675675675675"
   ]
  },
  {
   "cell_type": "code",
   "execution_count": 41,
   "id": "8da3161c",
   "metadata": {},
   "outputs": [
    {
     "data": {
      "text/plain": [
       "0.6079250927121109"
      ]
     },
     "execution_count": 41,
     "metadata": {},
     "output_type": "execute_result"
    },
    {
     "data": {
      "image/png": "[encoded data removed]",
      "text/plain": [
       "<Figure size 432x288 with 1 Axes>"
      ]
     },
     "metadata": {
      "needs_background": "light"
     },
     "output_type": "display_data"
    }
   ],
   "source": [
    "from sklearn.metrics import roc_curve, auc\n",
    "nn_fpr_keras, nn_tpr_keras, nn_thresholds_keras = roc_curve(predstemi, y_stemi)\n",
    "auc_keras = auc(nn_fpr_keras, nn_tpr_keras)\n",
    "plt.plot(nn_fpr_keras, nn_tpr_keras, marker='.', label='Neural Network (auc = %0.3f)' % auc_keras)\n",
    "auc_keras\n",
    "#0.6079250927121109"
   ]
  },
  {
   "cell_type": "code",
   "execution_count": 42,
   "id": "772c0b33",
   "metadata": {},
   "outputs": [],
   "source": [
    "#test nstemi\n",
    "x_nstemi = nstemi.drop(['status'], axis=1).values\n",
    "y_nstemi = nstemi['status'].values\n",
    "\n",
    "prednstemi = classifier.predict(x_nstemi)"
   ]
  },
  {
   "cell_type": "code",
   "execution_count": 43,
   "id": "2eb7a10f",
   "metadata": {},
   "outputs": [
    {
     "data": {
      "text/plain": [
       "array([[ 18,  40],\n",
       "       [ 21, 620]], dtype=int64)"
      ]
     },
     "execution_count": 43,
     "metadata": {},
     "output_type": "execute_result"
    }
   ],
   "source": [
    "prednstemi = classifier.predict(x_nstemi)\n",
    "from sklearn.metrics import confusion_matrix\n",
    "#Comparing the predictions against the actual observations in y_val\n",
    "cm = confusion_matrix(prednstemi, y_nstemi)\n",
    "cm\n",
    "#array([[ 18,  40],\n",
    "#       [ 21, 620]], dtype=int64)\n"
   ]
  },
  {
   "cell_type": "code",
   "execution_count": 44,
   "id": "21356de5",
   "metadata": {},
   "outputs": [
    {
     "name": "stdout",
     "output_type": "stream",
     "text": [
      "Accuracy of MLPClassifier :  0.9127324749642346\n"
     ]
    }
   ],
   "source": [
    "print(\"Accuracy of MLPClassifier : \", accuracy(cm))\n",
    "#Accuracy of MLPClassifier :  0.9127324749642346"
   ]
  },
  {
   "cell_type": "code",
   "execution_count": 45,
   "id": "1055aef5",
   "metadata": {},
   "outputs": [
    {
     "data": {
      "text/plain": [
       "0.6387917585668943"
      ]
     },
     "execution_count": 45,
     "metadata": {},
     "output_type": "execute_result"
    },
    {
     "data": {
      "image/png": "[encoded data removed]",
      "text/plain": [
       "<Figure size 432x288 with 1 Axes>"
      ]
     },
     "metadata": {
      "needs_background": "light"
     },
     "output_type": "display_data"
    }
   ],
   "source": [
    "from sklearn.metrics import roc_curve, auc\n",
    "nn_fpr_keras, nn_tpr_keras, nn_thresholds_keras = roc_curve(prednstemi, y_nstemi)\n",
    "auc_keras = auc(nn_fpr_keras, nn_tpr_keras)\n",
    "plt.plot(nn_fpr_keras, nn_tpr_keras, marker='.', label='Neural Network (auc = %0.3f)' % auc_keras)\n",
    "auc_keras\n",
    "#0.6387917585668943"
   ]
  }
 ],
 "metadata": {
  "kernelspec": {
   "display_name": "Python 3",
   "language": "python",
   "name": "python3"
  },
  "language_info": {
   "codemirror_mode": {
    "name": "ipython",
    "version": 3
   },
   "file_extension": ".py",
   "mimetype": "text/x-python",
   "name": "python",
   "nbconvert_exporter": "python",
   "pygments_lexer": "ipython3",
   "version": "3.8.8"
  }
 },
 "nbformat": 4,
 "nbformat_minor": 5
}
